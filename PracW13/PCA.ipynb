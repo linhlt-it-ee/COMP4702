{
  "nbformat": 4,
  "nbformat_minor": 0,
  "metadata": {
    "colab": {
      "provenance": []
    },
    "kernelspec": {
      "name": "python3",
      "display_name": "Python 3"
    },
    "language_info": {
      "name": "python"
    }
  },
  "cells": [
    {
      "cell_type": "code",
      "execution_count": null,
      "metadata": {
        "colab": {
          "base_uri": "https://localhost:8080/"
        },
        "id": "gOVFIugRZ8kc",
        "outputId": "8a296965-d0aa-4dd7-f65c-4c23343b556a"
      },
      "outputs": [
        {
          "output_type": "stream",
          "name": "stdout",
          "text": [
            "Mounted at /content/drive\n",
            "/content/drive/My Drive/CODE/DATA7703\n",
            "pokemonfun2.csv  pokemonfun.csv  wk2_prac_tute.pdf\n"
          ]
        }
      ],
      "source": [
        "from google.colab import drive\n",
        "drive.mount('/content/drive')\n",
        "%cd /content/drive/My Drive/CODE/DATA7703/\n",
        "%ls"
      ]
    },
    {
      "cell_type": "code",
      "source": [
        "A = np.random.randint((5,4))\n",
        "print(A[0])"
      ],
      "metadata": {
        "colab": {
          "base_uri": "https://localhost:8080/"
        },
        "id": "HqXYGeURjP4y",
        "outputId": "849c666d-ff80-4add-b168-0586348e02b2"
      },
      "execution_count": null,
      "outputs": [
        {
          "output_type": "stream",
          "name": "stdout",
          "text": [
            "4\n"
          ]
        }
      ]
    },
    {
      "cell_type": "code",
      "source": [
        "print(np.random.random((2, 4)))"
      ],
      "metadata": {
        "colab": {
          "base_uri": "https://localhost:8080/"
        },
        "id": "2Z-m8J34j3wi",
        "outputId": "cb6dbf8e-8326-4605-f507-618c60b0854b"
      },
      "execution_count": null,
      "outputs": [
        {
          "output_type": "stream",
          "name": "stdout",
          "text": [
            "[[0.7172904  0.62077034 0.54377157 0.57344549]\n",
            " [0.90664738 0.25895784 0.61526784 0.08981192]]\n"
          ]
        }
      ]
    },
    {
      "cell_type": "code",
      "source": [
        "import numpy as np\n",
        "import pandas as pd\n",
        "\n",
        "A = np.random.randint(10, size=(5, 4))\n",
        "print(\"A mat\",A)\n",
        "df = pd.DataFrame(A,columns  = ['f1','f2','f3','f4'])\n",
        "\n",
        "df_std  = (df - df.mean()) / (df.std())\n",
        "df_std\n"
      ],
      "metadata": {
        "colab": {
          "base_uri": "https://localhost:8080/",
          "height": 206
        },
        "id": "AJAxfozQrig8",
        "outputId": "c88c5742-ef32-4e67-8bad-8e50045432ce"
      },
      "execution_count": null,
      "outputs": [
        {
          "output_type": "execute_result",
          "data": {
            "text/plain": [
              "         f1        f2        f3        f4\n",
              "0 -0.395628  0.670820  0.000000 -0.687552\n",
              "1 -0.065938  1.229837 -1.460593 -0.423109\n",
              "2 -1.384699  0.111803  1.095445 -0.687552\n",
              "3  1.252823 -1.006231 -0.365148  1.692435\n",
              "4  0.593442 -1.006231  0.730297  0.105777"
            ],
            "text/html": [
              "\n",
              "  <div id=\"df-792dc8c2-34d7-4035-9c5f-f349d152d259\">\n",
              "    <div class=\"colab-df-container\">\n",
              "      <div>\n",
              "<style scoped>\n",
              "    .dataframe tbody tr th:only-of-type {\n",
              "        vertical-align: middle;\n",
              "    }\n",
              "\n",
              "    .dataframe tbody tr th {\n",
              "        vertical-align: top;\n",
              "    }\n",
              "\n",
              "    .dataframe thead th {\n",
              "        text-align: right;\n",
              "    }\n",
              "</style>\n",
              "<table border=\"1\" class=\"dataframe\">\n",
              "  <thead>\n",
              "    <tr style=\"text-align: right;\">\n",
              "      <th></th>\n",
              "      <th>f1</th>\n",
              "      <th>f2</th>\n",
              "      <th>f3</th>\n",
              "      <th>f4</th>\n",
              "    </tr>\n",
              "  </thead>\n",
              "  <tbody>\n",
              "    <tr>\n",
              "      <th>0</th>\n",
              "      <td>-0.395628</td>\n",
              "      <td>0.670820</td>\n",
              "      <td>0.000000</td>\n",
              "      <td>-0.687552</td>\n",
              "    </tr>\n",
              "    <tr>\n",
              "      <th>1</th>\n",
              "      <td>-0.065938</td>\n",
              "      <td>1.229837</td>\n",
              "      <td>-1.460593</td>\n",
              "      <td>-0.423109</td>\n",
              "    </tr>\n",
              "    <tr>\n",
              "      <th>2</th>\n",
              "      <td>-1.384699</td>\n",
              "      <td>0.111803</td>\n",
              "      <td>1.095445</td>\n",
              "      <td>-0.687552</td>\n",
              "    </tr>\n",
              "    <tr>\n",
              "      <th>3</th>\n",
              "      <td>1.252823</td>\n",
              "      <td>-1.006231</td>\n",
              "      <td>-0.365148</td>\n",
              "      <td>1.692435</td>\n",
              "    </tr>\n",
              "    <tr>\n",
              "      <th>4</th>\n",
              "      <td>0.593442</td>\n",
              "      <td>-1.006231</td>\n",
              "      <td>0.730297</td>\n",
              "      <td>0.105777</td>\n",
              "    </tr>\n",
              "  </tbody>\n",
              "</table>\n",
              "</div>\n",
              "      <button class=\"colab-df-convert\" onclick=\"convertToInteractive('df-792dc8c2-34d7-4035-9c5f-f349d152d259')\"\n",
              "              title=\"Convert this dataframe to an interactive table.\"\n",
              "              style=\"display:none;\">\n",
              "        \n",
              "  <svg xmlns=\"http://www.w3.org/2000/svg\" height=\"24px\"viewBox=\"0 0 24 24\"\n",
              "       width=\"24px\">\n",
              "    <path d=\"M0 0h24v24H0V0z\" fill=\"none\"/>\n",
              "    <path d=\"M18.56 5.44l.94 2.06.94-2.06 2.06-.94-2.06-.94-.94-2.06-.94 2.06-2.06.94zm-11 1L8.5 8.5l.94-2.06 2.06-.94-2.06-.94L8.5 2.5l-.94 2.06-2.06.94zm10 10l.94 2.06.94-2.06 2.06-.94-2.06-.94-.94-2.06-.94 2.06-2.06.94z\"/><path d=\"M17.41 7.96l-1.37-1.37c-.4-.4-.92-.59-1.43-.59-.52 0-1.04.2-1.43.59L10.3 9.45l-7.72 7.72c-.78.78-.78 2.05 0 2.83L4 21.41c.39.39.9.59 1.41.59.51 0 1.02-.2 1.41-.59l7.78-7.78 2.81-2.81c.8-.78.8-2.07 0-2.86zM5.41 20L4 18.59l7.72-7.72 1.47 1.35L5.41 20z\"/>\n",
              "  </svg>\n",
              "      </button>\n",
              "      \n",
              "  <style>\n",
              "    .colab-df-container {\n",
              "      display:flex;\n",
              "      flex-wrap:wrap;\n",
              "      gap: 12px;\n",
              "    }\n",
              "\n",
              "    .colab-df-convert {\n",
              "      background-color: #E8F0FE;\n",
              "      border: none;\n",
              "      border-radius: 50%;\n",
              "      cursor: pointer;\n",
              "      display: none;\n",
              "      fill: #1967D2;\n",
              "      height: 32px;\n",
              "      padding: 0 0 0 0;\n",
              "      width: 32px;\n",
              "    }\n",
              "\n",
              "    .colab-df-convert:hover {\n",
              "      background-color: #E2EBFA;\n",
              "      box-shadow: 0px 1px 2px rgba(60, 64, 67, 0.3), 0px 1px 3px 1px rgba(60, 64, 67, 0.15);\n",
              "      fill: #174EA6;\n",
              "    }\n",
              "\n",
              "    [theme=dark] .colab-df-convert {\n",
              "      background-color: #3B4455;\n",
              "      fill: #D2E3FC;\n",
              "    }\n",
              "\n",
              "    [theme=dark] .colab-df-convert:hover {\n",
              "      background-color: #434B5C;\n",
              "      box-shadow: 0px 1px 3px 1px rgba(0, 0, 0, 0.15);\n",
              "      filter: drop-shadow(0px 1px 2px rgba(0, 0, 0, 0.3));\n",
              "      fill: #FFFFFF;\n",
              "    }\n",
              "  </style>\n",
              "\n",
              "      <script>\n",
              "        const buttonEl =\n",
              "          document.querySelector('#df-792dc8c2-34d7-4035-9c5f-f349d152d259 button.colab-df-convert');\n",
              "        buttonEl.style.display =\n",
              "          google.colab.kernel.accessAllowed ? 'block' : 'none';\n",
              "\n",
              "        async function convertToInteractive(key) {\n",
              "          const element = document.querySelector('#df-792dc8c2-34d7-4035-9c5f-f349d152d259');\n",
              "          const dataTable =\n",
              "            await google.colab.kernel.invokeFunction('convertToInteractive',\n",
              "                                                     [key], {});\n",
              "          if (!dataTable) return;\n",
              "\n",
              "          const docLinkHtml = 'Like what you see? Visit the ' +\n",
              "            '<a target=\"_blank\" href=https://colab.research.google.com/notebooks/data_table.ipynb>data table notebook</a>'\n",
              "            + ' to learn more about interactive tables.';\n",
              "          element.innerHTML = '';\n",
              "          dataTable['output_type'] = 'display_data';\n",
              "          await google.colab.output.renderOutput(dataTable, element);\n",
              "          const docLink = document.createElement('div');\n",
              "          docLink.innerHTML = docLinkHtml;\n",
              "          element.appendChild(docLink);\n",
              "        }\n",
              "      </script>\n",
              "    </div>\n",
              "  </div>\n",
              "  "
            ]
          },
          "metadata": {},
          "execution_count": 3
        }
      ]
    },
    {
      "cell_type": "code",
      "source": [
        "import numpy as np\n",
        "import pandas as pd\n",
        "\n",
        "A = np.random.randint(10, size=(5, 4))\n",
        "\n",
        "df = pd.DataFrame(A,columns  = ['f1','f2','f3','f4'])\n",
        "\n",
        "# Step 2: Standardize the dataset\n",
        "df_std  = (df - df.mean()) / (df.std())\n",
        "df_std\n",
        "\n",
        "# Find the covariance matrix for the given dataset\n",
        "\n",
        "# There are two methods to do this\n",
        "\n",
        "#     Sample formula\n",
        "#     Population formula\n",
        "\n",
        "# Note: Any of the formula, can be used result will be same\n",
        "# Covariance population formula (divide by N)\n",
        "\n",
        "\n",
        "df_cov = np.cov(df_std.T, bias = 1)\n",
        "df_cov\n",
        "\n",
        "\n",
        "# Covariance sample formula (divide by N-1)\n",
        "\n",
        "cov_mat = np.cov(df_std.T, bias = 0)\n",
        "cov_mat\n",
        "\n",
        "\n",
        "## verify varinace(f1) is as expected\n",
        "print('var(f1) (population formula): ',((df_std.f1)**2).sum()/5)\n",
        "print('var(f1) (sample formula): ',((df_std.f1)**2).sum()/4)\n",
        "\n",
        "\n",
        "# Calculate Eigenvalue and eigen vector\n",
        "\n",
        "eigen_val, eigen_vectors = np.linalg.eig(cov_mat)\n",
        "\n",
        "\n",
        "# Sort the eigen values and their correspoding eigen vectors\n",
        "# Since the eigen values are already sorted in our case, so no need of this step\n",
        "print(eigen_vectors)\n",
        "n_components=2\n",
        "\n",
        "# pick top n_components eigen values and their corresponding eigen vectors\n",
        "\n",
        "top_eigen_vectors = eigen_vectors[:,:n_components]\n",
        "\n",
        "print(\"top eigen vectors\",top_eigen_vectors)\n",
        "\n",
        "top_eigen_vectors.shape\n",
        "print(\"df_std shape\",df_std.shape)\n",
        "transformed_data = np.matmul(np.array(df_std),top_eigen_vectors)\n",
        "pd.DataFrame(data = transformed_data\n",
        "             , columns = ['principal component '+ str(i+1) for i in range(n_components)])\n",
        "\n",
        "\n",
        "transformed_data.shape\n",
        "\n"
      ],
      "metadata": {
        "colab": {
          "base_uri": "https://localhost:8080/"
        },
        "id": "_gO_-AHuax-s",
        "outputId": "8feae64a-4be5-4365-a817-5399dea29654"
      },
      "execution_count": null,
      "outputs": [
        {
          "output_type": "stream",
          "name": "stdout",
          "text": [
            "var(f1) (population formula):  0.8000000000000002\n",
            "var(f1) (sample formula):  1.0000000000000002\n",
            "[[-0.56501346  0.57449649 -0.59172325 -0.02402419]\n",
            " [ 0.37402575 -0.37321979 -0.69999076 -0.48044216]\n",
            " [ 0.21969005 -0.15853936 -0.399259    0.875896  ]\n",
            " [ 0.70185526  0.71100355  0.02165146 -0.0374748 ]]\n",
            "top eigen vectors [[-0.56501346  0.57449649]\n",
            " [ 0.37402575 -0.37321979]\n",
            " [ 0.21969005 -0.15853936]\n",
            " [ 0.70185526  0.71100355]]\n",
            "df_std shape (5, 4)\n"
          ]
        },
        {
          "output_type": "execute_result",
          "data": {
            "text/plain": [
              "(5, 2)"
            ]
          },
          "metadata": {},
          "execution_count": 32
        }
      ]
    },
    {
      "cell_type": "code",
      "source": [
        "\n",
        "\n",
        "from sklearn.decomposition import PCA\n",
        "pca = PCA(n_components=n_components)\n",
        "principalComponents = pca.fit_transform(df_std)\n",
        "principalDf = pd.DataFrame(data = principalComponents\n",
        "             , columns = ['pc '+ str(i+1) for i in range(n_components)])#pc = principal component\n",
        "    \n",
        "\n",
        "\n",
        "\n",
        "principalDf\n",
        "\n"
      ],
      "metadata": {
        "colab": {
          "base_uri": "https://localhost:8080/",
          "height": 206
        },
        "id": "gKU_KbbWcnXq",
        "outputId": "0b16d98f-4f78-49ba-8dd0-40199332f319"
      },
      "execution_count": null,
      "outputs": [
        {
          "output_type": "execute_result",
          "data": {
            "text/plain": [
              "       pc 1      pc 2\n",
              "0 -1.793481  0.196281\n",
              "1  2.107030 -0.726303\n",
              "2  1.394326  1.193358\n",
              "3 -0.132592 -0.572890\n",
              "4 -1.575283 -0.090446"
            ],
            "text/html": [
              "\n",
              "  <div id=\"df-994fabaa-822a-47ae-9f51-33f04732637e\">\n",
              "    <div class=\"colab-df-container\">\n",
              "      <div>\n",
              "<style scoped>\n",
              "    .dataframe tbody tr th:only-of-type {\n",
              "        vertical-align: middle;\n",
              "    }\n",
              "\n",
              "    .dataframe tbody tr th {\n",
              "        vertical-align: top;\n",
              "    }\n",
              "\n",
              "    .dataframe thead th {\n",
              "        text-align: right;\n",
              "    }\n",
              "</style>\n",
              "<table border=\"1\" class=\"dataframe\">\n",
              "  <thead>\n",
              "    <tr style=\"text-align: right;\">\n",
              "      <th></th>\n",
              "      <th>pc 1</th>\n",
              "      <th>pc 2</th>\n",
              "    </tr>\n",
              "  </thead>\n",
              "  <tbody>\n",
              "    <tr>\n",
              "      <th>0</th>\n",
              "      <td>-1.793481</td>\n",
              "      <td>0.196281</td>\n",
              "    </tr>\n",
              "    <tr>\n",
              "      <th>1</th>\n",
              "      <td>2.107030</td>\n",
              "      <td>-0.726303</td>\n",
              "    </tr>\n",
              "    <tr>\n",
              "      <th>2</th>\n",
              "      <td>1.394326</td>\n",
              "      <td>1.193358</td>\n",
              "    </tr>\n",
              "    <tr>\n",
              "      <th>3</th>\n",
              "      <td>-0.132592</td>\n",
              "      <td>-0.572890</td>\n",
              "    </tr>\n",
              "    <tr>\n",
              "      <th>4</th>\n",
              "      <td>-1.575283</td>\n",
              "      <td>-0.090446</td>\n",
              "    </tr>\n",
              "  </tbody>\n",
              "</table>\n",
              "</div>\n",
              "      <button class=\"colab-df-convert\" onclick=\"convertToInteractive('df-994fabaa-822a-47ae-9f51-33f04732637e')\"\n",
              "              title=\"Convert this dataframe to an interactive table.\"\n",
              "              style=\"display:none;\">\n",
              "        \n",
              "  <svg xmlns=\"http://www.w3.org/2000/svg\" height=\"24px\"viewBox=\"0 0 24 24\"\n",
              "       width=\"24px\">\n",
              "    <path d=\"M0 0h24v24H0V0z\" fill=\"none\"/>\n",
              "    <path d=\"M18.56 5.44l.94 2.06.94-2.06 2.06-.94-2.06-.94-.94-2.06-.94 2.06-2.06.94zm-11 1L8.5 8.5l.94-2.06 2.06-.94-2.06-.94L8.5 2.5l-.94 2.06-2.06.94zm10 10l.94 2.06.94-2.06 2.06-.94-2.06-.94-.94-2.06-.94 2.06-2.06.94z\"/><path d=\"M17.41 7.96l-1.37-1.37c-.4-.4-.92-.59-1.43-.59-.52 0-1.04.2-1.43.59L10.3 9.45l-7.72 7.72c-.78.78-.78 2.05 0 2.83L4 21.41c.39.39.9.59 1.41.59.51 0 1.02-.2 1.41-.59l7.78-7.78 2.81-2.81c.8-.78.8-2.07 0-2.86zM5.41 20L4 18.59l7.72-7.72 1.47 1.35L5.41 20z\"/>\n",
              "  </svg>\n",
              "      </button>\n",
              "      \n",
              "  <style>\n",
              "    .colab-df-container {\n",
              "      display:flex;\n",
              "      flex-wrap:wrap;\n",
              "      gap: 12px;\n",
              "    }\n",
              "\n",
              "    .colab-df-convert {\n",
              "      background-color: #E8F0FE;\n",
              "      border: none;\n",
              "      border-radius: 50%;\n",
              "      cursor: pointer;\n",
              "      display: none;\n",
              "      fill: #1967D2;\n",
              "      height: 32px;\n",
              "      padding: 0 0 0 0;\n",
              "      width: 32px;\n",
              "    }\n",
              "\n",
              "    .colab-df-convert:hover {\n",
              "      background-color: #E2EBFA;\n",
              "      box-shadow: 0px 1px 2px rgba(60, 64, 67, 0.3), 0px 1px 3px 1px rgba(60, 64, 67, 0.15);\n",
              "      fill: #174EA6;\n",
              "    }\n",
              "\n",
              "    [theme=dark] .colab-df-convert {\n",
              "      background-color: #3B4455;\n",
              "      fill: #D2E3FC;\n",
              "    }\n",
              "\n",
              "    [theme=dark] .colab-df-convert:hover {\n",
              "      background-color: #434B5C;\n",
              "      box-shadow: 0px 1px 3px 1px rgba(0, 0, 0, 0.15);\n",
              "      filter: drop-shadow(0px 1px 2px rgba(0, 0, 0, 0.3));\n",
              "      fill: #FFFFFF;\n",
              "    }\n",
              "  </style>\n",
              "\n",
              "      <script>\n",
              "        const buttonEl =\n",
              "          document.querySelector('#df-994fabaa-822a-47ae-9f51-33f04732637e button.colab-df-convert');\n",
              "        buttonEl.style.display =\n",
              "          google.colab.kernel.accessAllowed ? 'block' : 'none';\n",
              "\n",
              "        async function convertToInteractive(key) {\n",
              "          const element = document.querySelector('#df-994fabaa-822a-47ae-9f51-33f04732637e');\n",
              "          const dataTable =\n",
              "            await google.colab.kernel.invokeFunction('convertToInteractive',\n",
              "                                                     [key], {});\n",
              "          if (!dataTable) return;\n",
              "\n",
              "          const docLinkHtml = 'Like what you see? Visit the ' +\n",
              "            '<a target=\"_blank\" href=https://colab.research.google.com/notebooks/data_table.ipynb>data table notebook</a>'\n",
              "            + ' to learn more about interactive tables.';\n",
              "          element.innerHTML = '';\n",
              "          dataTable['output_type'] = 'display_data';\n",
              "          await google.colab.output.renderOutput(dataTable, element);\n",
              "          const docLink = document.createElement('div');\n",
              "          docLink.innerHTML = docLinkHtml;\n",
              "          element.appendChild(docLink);\n",
              "        }\n",
              "      </script>\n",
              "    </div>\n",
              "  </div>\n",
              "  "
            ]
          },
          "metadata": {},
          "execution_count": 39
        }
      ]
    },
    {
      "cell_type": "code",
      "source": [
        "import pandas as pd\n",
        "data = pd.read_csv('pokemonfun2.csv').dropna().values\n",
        "# X, y = data[:,:7], data[:,7:8]\n",
        "X, y = data[:], data[:,7:8]\n",
        "print(X.shape,y.shape)"
      ],
      "metadata": {
        "colab": {
          "base_uri": "https://localhost:8080/"
        },
        "id": "2qhu9VPHaWff",
        "outputId": "80254a2c-80fa-4700-cfb7-0d1921e0f8bf"
      },
      "execution_count": null,
      "outputs": [
        {
          "output_type": "stream",
          "name": "stdout",
          "text": [
            "(780, 8) (780, 1)\n"
          ]
        }
      ]
    },
    {
      "cell_type": "code",
      "source": [
        "import numpy as np\n",
        "import pandas as pd\n",
        "\n",
        "\n",
        "df = pd.DataFrame(X,columns  = ['f1','f2','f3','f4','f5','f6','f7','f8'])\n",
        "\n",
        "# Step 2: Standardize the dataset\n",
        "# df_std  = (df - df.mean()) / (df.std())\n",
        "# df_std\n",
        "\n",
        "# Find the covariance matrix for the given dataset\n",
        "\n",
        "# There are two methods to do this\n",
        "\n",
        "#     Sample formula\n",
        "#     Population formula\n",
        "\n",
        "# Note: Any of the formula, can be used result will be same\n",
        "# Covariance population formula (divide by N)\n",
        "\n",
        "df_std=df\n",
        "df_cov = np.cov(df_std.T, bias = 1)\n",
        "df_cov\n",
        "\n",
        "\n",
        "# Covariance sample formula (divide by N-1)\n",
        "\n",
        "cov_mat = np.cov(df_std.T, bias = 0)\n",
        "cov_mat\n",
        "\n",
        "\n",
        "## verify varinace(f1) is as expected\n",
        "print('var(f1) (population formula): ',((df_std.f1)**2).sum()/5)\n",
        "print('var(f1) (sample formula): ',((df_std.f1)**2).sum()/4)\n",
        "\n",
        "\n",
        "# Calculate Eigenvalue and eigen vector\n",
        "\n",
        "eigen_val, eigen_vectors = np.linalg.eig(cov_mat)\n",
        "\n",
        "\n",
        "# Sort the eigen values and their correspoding eigen vectors\n",
        "# Since the eigen values are already sorted in our case, so no need of this step\n",
        "print(eigen_val)\n",
        "n_components=2\n",
        "\n",
        "# pick top n_components eigen values and their corresponding eigen vectors\n",
        "\n",
        "top_eigen_vectors = eigen_vectors[:,:n_components]\n",
        "\n",
        "print(\"top eigen vectors\",top_eigen_vectors)\n",
        "\n",
        "top_eigen_vectors.shape\n",
        "print(\"df_std shape\",df_std.shape)\n",
        "transformed_data = np.matmul(np.array(df_std),top_eigen_vectors)\n",
        "pd.DataFrame(data = transformed_data\n",
        "             , columns = ['principal component '+ str(i+1) for i in range(n_components)])\n",
        "\n",
        "\n",
        "transformed_data.shape\n"
      ],
      "metadata": {
        "colab": {
          "base_uri": "https://localhost:8080/"
        },
        "id": "Ctxt2QE0agzB",
        "outputId": "92040510-a085-4fc5-aaa1-01e916bb4fd7"
      },
      "execution_count": null,
      "outputs": [
        {
          "output_type": "stream",
          "name": "stdout",
          "text": [
            "var(f1) (population formula):  1104384.0\n",
            "var(f1) (sample formula):  1380480.0\n",
            "[1.26503971e+04 1.88440966e+03 8.97299704e+02 7.40931503e+02\n",
            " 5.28703461e+02 3.92881387e+02 2.31429969e+02 6.03471992e-01]\n",
            "top eigen vectors [[ 0.12625494  0.43242109]\n",
            " [ 0.13064275  0.28019777]\n",
            " [ 0.00623237  0.00542911]\n",
            " [ 0.11139121  0.22851787]\n",
            " [ 0.08634032  0.5550341 ]\n",
            " [ 0.09052539  0.38279364]\n",
            " [ 0.02268424  0.42561055]\n",
            " [ 0.9687008  -0.21566911]]\n",
            "df_std shape (780, 8)\n"
          ]
        },
        {
          "output_type": "execute_result",
          "data": {
            "text/plain": [
              "(780, 2)"
            ]
          },
          "metadata": {},
          "execution_count": 6
        }
      ]
    },
    {
      "cell_type": "code",
      "source": [
        "import matplotlib.pyplot as plt\n",
        "plt.scatter(transformed_data[:, 0], transformed_data[:, 1])\n",
        "\n",
        "plt.xlabel('1st Component', size=25)\n",
        "plt.ylabel('2st Component', size=25)\n",
        "# plt.legend(np.unique(y))\n",
        "plt.show()"
      ],
      "metadata": {
        "colab": {
          "base_uri": "https://localhost:8080/",
          "height": 293
        },
        "id": "44ZGEzwLMWEK",
        "outputId": "16577fec-c022-4d28-e647-b7b177d2d69b"
      },
      "execution_count": null,
      "outputs": [
        {
          "output_type": "display_data",
          "data": {
            "text/plain": [
              "<Figure size 432x288 with 1 Axes>"
            ],
            "image/png": "[encoded data removed]"
          },
          "metadata": {
            "needs_background": "light"
          }
        }
      ]
    },
    {
      "cell_type": "code",
      "source": [
        "from sklearn.decomposition import PCA\n",
        "pca = PCA(n_components=2)\n",
        "principalComponents = pca.fit_transform(df_std)\n",
        "principalDf = pd.DataFrame(data = principalComponents\n",
        "             , columns = ['pc '+ str(i+1) for i in range(n_components)])#pc = principal component\n",
        "    \n",
        "\n",
        "\n",
        "\n",
        "principalDf"
      ],
      "metadata": {
        "colab": {
          "base_uri": "https://localhost:8080/",
          "height": 424
        },
        "id": "g5O6W5OOfDMs",
        "outputId": "63b878e0-cc10-4842-b783-ab5fce23d0fd"
      },
      "execution_count": null,
      "outputs": [
        {
          "output_type": "execute_result",
          "data": {
            "text/plain": [
              "           pc 1        pc 2\n",
              "0    -49.860908   -4.127291\n",
              "1     56.987365  -70.319121\n",
              "2    -64.766321   30.087850\n",
              "3    -45.575762   -4.610943\n",
              "4     45.381801  -88.164602\n",
              "..          ...         ...\n",
              "775  924.727053  148.694342\n",
              "776  -43.702221  -67.630975\n",
              "777  818.192591  141.383120\n",
              "778  180.426987  -33.514666\n",
              "779   36.312882  -66.257698\n",
              "\n",
              "[780 rows x 2 columns]"
            ],
            "text/html": [
              "\n",
              "  <div id=\"df-1e4cd6b6-77f1-41dd-92a2-9e04a779b241\">\n",
              "    <div class=\"colab-df-container\">\n",
              "      <div>\n",
              "<style scoped>\n",
              "    .dataframe tbody tr th:only-of-type {\n",
              "        vertical-align: middle;\n",
              "    }\n",
              "\n",
              "    .dataframe tbody tr th {\n",
              "        vertical-align: top;\n",
              "    }\n",
              "\n",
              "    .dataframe thead th {\n",
              "        text-align: right;\n",
              "    }\n",
              "</style>\n",
              "<table border=\"1\" class=\"dataframe\">\n",
              "  <thead>\n",
              "    <tr style=\"text-align: right;\">\n",
              "      <th></th>\n",
              "      <th>pc 1</th>\n",
              "      <th>pc 2</th>\n",
              "    </tr>\n",
              "  </thead>\n",
              "  <tbody>\n",
              "    <tr>\n",
              "      <th>0</th>\n",
              "      <td>-49.860908</td>\n",
              "      <td>-4.127291</td>\n",
              "    </tr>\n",
              "    <tr>\n",
              "      <th>1</th>\n",
              "      <td>56.987365</td>\n",
              "      <td>-70.319121</td>\n",
              "    </tr>\n",
              "    <tr>\n",
              "      <th>2</th>\n",
              "      <td>-64.766321</td>\n",
              "      <td>30.087850</td>\n",
              "    </tr>\n",
              "    <tr>\n",
              "      <th>3</th>\n",
              "      <td>-45.575762</td>\n",
              "      <td>-4.610943</td>\n",
              "    </tr>\n",
              "    <tr>\n",
              "      <th>4</th>\n",
              "      <td>45.381801</td>\n",
              "      <td>-88.164602</td>\n",
              "    </tr>\n",
              "    <tr>\n",
              "      <th>...</th>\n",
              "      <td>...</td>\n",
              "      <td>...</td>\n",
              "    </tr>\n",
              "    <tr>\n",
              "      <th>775</th>\n",
              "      <td>924.727053</td>\n",
              "      <td>148.694342</td>\n",
              "    </tr>\n",
              "    <tr>\n",
              "      <th>776</th>\n",
              "      <td>-43.702221</td>\n",
              "      <td>-67.630975</td>\n",
              "    </tr>\n",
              "    <tr>\n",
              "      <th>777</th>\n",
              "      <td>818.192591</td>\n",
              "      <td>141.383120</td>\n",
              "    </tr>\n",
              "    <tr>\n",
              "      <th>778</th>\n",
              "      <td>180.426987</td>\n",
              "      <td>-33.514666</td>\n",
              "    </tr>\n",
              "    <tr>\n",
              "      <th>779</th>\n",
              "      <td>36.312882</td>\n",
              "      <td>-66.257698</td>\n",
              "    </tr>\n",
              "  </tbody>\n",
              "</table>\n",
              "<p>780 rows × 2 columns</p>\n",
              "</div>\n",
              "      <button class=\"colab-df-convert\" onclick=\"convertToInteractive('df-1e4cd6b6-77f1-41dd-92a2-9e04a779b241')\"\n",
              "              title=\"Convert this dataframe to an interactive table.\"\n",
              "              style=\"display:none;\">\n",
              "        \n",
              "  <svg xmlns=\"http://www.w3.org/2000/svg\" height=\"24px\"viewBox=\"0 0 24 24\"\n",
              "       width=\"24px\">\n",
              "    <path d=\"M0 0h24v24H0V0z\" fill=\"none\"/>\n",
              "    <path d=\"M18.56 5.44l.94 2.06.94-2.06 2.06-.94-2.06-.94-.94-2.06-.94 2.06-2.06.94zm-11 1L8.5 8.5l.94-2.06 2.06-.94-2.06-.94L8.5 2.5l-.94 2.06-2.06.94zm10 10l.94 2.06.94-2.06 2.06-.94-2.06-.94-.94-2.06-.94 2.06-2.06.94z\"/><path d=\"M17.41 7.96l-1.37-1.37c-.4-.4-.92-.59-1.43-.59-.52 0-1.04.2-1.43.59L10.3 9.45l-7.72 7.72c-.78.78-.78 2.05 0 2.83L4 21.41c.39.39.9.59 1.41.59.51 0 1.02-.2 1.41-.59l7.78-7.78 2.81-2.81c.8-.78.8-2.07 0-2.86zM5.41 20L4 18.59l7.72-7.72 1.47 1.35L5.41 20z\"/>\n",
              "  </svg>\n",
              "      </button>\n",
              "      \n",
              "  <style>\n",
              "    .colab-df-container {\n",
              "      display:flex;\n",
              "      flex-wrap:wrap;\n",
              "      gap: 12px;\n",
              "    }\n",
              "\n",
              "    .colab-df-convert {\n",
              "      background-color: #E8F0FE;\n",
              "      border: none;\n",
              "      border-radius: 50%;\n",
              "      cursor: pointer;\n",
              "      display: none;\n",
              "      fill: #1967D2;\n",
              "      height: 32px;\n",
              "      padding: 0 0 0 0;\n",
              "      width: 32px;\n",
              "    }\n",
              "\n",
              "    .colab-df-convert:hover {\n",
              "      background-color: #E2EBFA;\n",
              "      box-shadow: 0px 1px 2px rgba(60, 64, 67, 0.3), 0px 1px 3px 1px rgba(60, 64, 67, 0.15);\n",
              "      fill: #174EA6;\n",
              "    }\n",
              "\n",
              "    [theme=dark] .colab-df-convert {\n",
              "      background-color: #3B4455;\n",
              "      fill: #D2E3FC;\n",
              "    }\n",
              "\n",
              "    [theme=dark] .colab-df-convert:hover {\n",
              "      background-color: #434B5C;\n",
              "      box-shadow: 0px 1px 3px 1px rgba(0, 0, 0, 0.15);\n",
              "      filter: drop-shadow(0px 1px 2px rgba(0, 0, 0, 0.3));\n",
              "      fill: #FFFFFF;\n",
              "    }\n",
              "  </style>\n",
              "\n",
              "      <script>\n",
              "        const buttonEl =\n",
              "          document.querySelector('#df-1e4cd6b6-77f1-41dd-92a2-9e04a779b241 button.colab-df-convert');\n",
              "        buttonEl.style.display =\n",
              "          google.colab.kernel.accessAllowed ? 'block' : 'none';\n",
              "\n",
              "        async function convertToInteractive(key) {\n",
              "          const element = document.querySelector('#df-1e4cd6b6-77f1-41dd-92a2-9e04a779b241');\n",
              "          const dataTable =\n",
              "            await google.colab.kernel.invokeFunction('convertToInteractive',\n",
              "                                                     [key], {});\n",
              "          if (!dataTable) return;\n",
              "\n",
              "          const docLinkHtml = 'Like what you see? Visit the ' +\n",
              "            '<a target=\"_blank\" href=https://colab.research.google.com/notebooks/data_table.ipynb>data table notebook</a>'\n",
              "            + ' to learn more about interactive tables.';\n",
              "          element.innerHTML = '';\n",
              "          dataTable['output_type'] = 'display_data';\n",
              "          await google.colab.output.renderOutput(dataTable, element);\n",
              "          const docLink = document.createElement('div');\n",
              "          docLink.innerHTML = docLinkHtml;\n",
              "          element.appendChild(docLink);\n",
              "        }\n",
              "      </script>\n",
              "    </div>\n",
              "  </div>\n",
              "  "
            ]
          },
          "metadata": {},
          "execution_count": 8
        }
      ]
    },
    {
      "cell_type": "code",
      "source": [
        "from sklearn.decomposition import PCA\n",
        "import scipy.io as si\n",
        "import numpy as np\n",
        "import matplotlib.pyplot as plt\n",
        "pca = PCA(n_components=2)\n",
        "X_new = pca.fit_transform(X)\n",
        "X_new = pd.DataFrame(X_new)\n",
        "classes = np.unique(y)"
      ],
      "metadata": {
        "id": "futQaOn7hp07"
      },
      "execution_count": null,
      "outputs": []
    },
    {
      "cell_type": "code",
      "source": [],
      "metadata": {
        "colab": {
          "base_uri": "https://localhost:8080/"
        },
        "id": "8lK8VfFtmoeF",
        "outputId": "49a0cfe6-8b7d-4daa-f634-b1fb85a78219"
      },
      "execution_count": null,
      "outputs": [
        {
          "output_type": "stream",
          "name": "stdout",
          "text": [
            "[[ 0.48740878  0.40425289  0.01161932  0.31764365  0.4930281   0.40196143\n",
            "   0.30549974]\n",
            " [ 0.07347851  0.65178401  0.00241772  0.01405972 -0.38459944  0.18827656\n",
            "  -0.62145813]]\n",
            "[2444.78756464  974.42062554]\n",
            "[1380.91791951  871.80736858]\n"
          ]
        }
      ]
    },
    {
      "cell_type": "code",
      "source": [
        "# Visualization\n",
        "for i in classes:\n",
        "    current_x = (X_new.iloc[y == i, :]).to_numpy()\n",
        "    plt.scatter(current_x[:, 0], current_x[:, 1])\n",
        "\n",
        "plt.xlabel('1st Component', size=25)\n",
        "plt.ylabel('2st Component', size=25)\n",
        "# plt.legend(np.unique(y))\n",
        "plt.show()"
      ],
      "metadata": {
        "colab": {
          "base_uri": "https://localhost:8080/",
          "height": 295
        },
        "id": "5vNFdfT-h_iA",
        "outputId": "db1cfca0-ed3f-43bf-e6a5-865a8ba142d2"
      },
      "execution_count": null,
      "outputs": [
        {
          "output_type": "display_data",
          "data": {
            "text/plain": [
              "<Figure size 432x288 with 1 Axes>"
            ],
            "image/png": "[encoded data removed]"
          },
          "metadata": {
            "needs_background": "light"
          }
        }
      ]
    }
  ]
}